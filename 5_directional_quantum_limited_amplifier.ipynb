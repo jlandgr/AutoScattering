{
 "cells": [
  {
   "cell_type": "code",
   "execution_count": 15,
   "metadata": {},
   "outputs": [],
   "source": [
    "# try to import library, if it is not installed it will be downloaded (required to run code on Google Colab)\n",
    "import os\n",
    "try:\n",
    "  import autoscattering\n",
    "except:\n",
    "  if not os.path.isdir('autoscatter'):\n",
    "    !git clone https://github.com/jlandgr/autoscatter.git\n",
    "    !mv autoscatter/autoscattering ."
   ]
  },
  {
   "cell_type": "code",
   "execution_count": 16,
   "metadata": {},
   "outputs": [],
   "source": [
    "import sympy as sp\n",
    "import numpy as np\n",
    "import jax\n",
    "import jax.numpy as jnp\n",
    "jax.config.update(\"jax_enable_x64\", True)\n",
    "\n",
    "import matplotlib.pyplot as plt\n",
    "import autoscattering.architecture_optimizer as arch_opt\n",
    "import autoscattering.constraints as msc\n",
    "import autoscattering.symbolic as sym\n",
    "np.set_printoptions(linewidth=200)"
   ]
  },
  {
   "cell_type": "markdown",
   "metadata": {},
   "source": [
    "In this example we reproduce the fully directional phase-preserving and quantum-limited amplifiers shown in Fig. 3(c) in our article [arxiv:2404.14887](https://arxiv.org/abs/2404.14887)\n",
    "\n",
    "This example is motived by the work of [Liu et al.](https://journals.aps.org/prapplied/abstract/10.1103/PhysRevApplied.21.014021)\n",
    "\n",
    "The goal is to design an amplifier which, which amplifies incoming signal by a factor of $G$, but has no backscattering at the input or output port. There should be no scattering from the output to the input port as the output port is connected to a room-temperature batch.\n",
    "This corresponds to the target scattering matrix: $S_\\mathrm{target} = \\begin{pmatrix} 0&0\\\\ \\sqrt{G} & 0 \\end{pmatrix}$\n",
    "\n",
    "Furthermore, the noise at the input and output ports should be at their respective quantum limits. The number of added noise photons at the input (mode 1) and output (mode 2) port can be computed at resonance ($\\omega=0$) by:\n",
    "$\n",
    "\\begin{align}\n",
    "    N_\\mathrm{input}^\\mathrm{add}=\\frac{1}{2} \\sum_{k} \\left( (n_k^\\mathrm{in}+1) |S_{1k}|^2 + (n_k^\\mathrm{noise}+1) |\\mathcal{N}_{1k}|^2 \\right) \\\\\n",
    "    N_\\mathrm{output}^\\mathrm{add}=\\frac{1}{2} \\sum_{k\\neq 1} \\left( (n_k^\\mathrm{in}+1) |S_{2k}|^2 + (n_k^\\mathrm{noise}+1) |\\mathcal{N}_{2k}|^2 \\right)\n",
    "\\end{align}\n",
    "$\n",
    "$S_{ij}$ are the elements of the full scattering matrix which includes the scattering from and to the auxiliary modes. $\\mathcal{N}_{ij}$ describes the linear response to fluctuations entering from the intrinsic loss channels at the port modes.\n",
    "$n_k^\\mathrm{in}$ and $n_k^\\mathrm{noise}$ are the occupation numbers of the baths connected to the respective modes. We assume that all the baths are at zero temperature, except the bath connected to the output channel. So, $n_j^\\mathrm{in}=0$ if $j\\neq 2$, $n_j^\\mathrm{noise}=0$ for all $j$, and $n_2^\\mathrm{in} > 0$.\n",
    "\n",
    "The quantum limit for a phase-preserving amplifiers is $N_\\mathrm{input}^\\mathrm{add}=1/2$ and $N_\\mathrm{output}^\\mathrm{add}=(G\\pm 1)/2$ (see Appendix H in our paper [arxiv:2404.14887](https://arxiv.org/abs/2404.14887) for more details).\n",
    "\n",
    "The quantum limit condition can not be directly expressed using a target scattering matrix. Instead, we define an extra constraints ($f_j$ in Equ. (1) in [arxiv:2404.14887](https://arxiv.org/abs/2404.14887))."
   ]
  },
  {
   "cell_type": "markdown",
   "metadata": {},
   "source": [
    "In the following we define these extra constraints."
   ]
  },
  {
   "cell_type": "code",
   "execution_count": 17,
   "metadata": {},
   "outputs": [],
   "source": [
    "class MinimalAddedInputNoise(msc.Base_Constraint):\n",
    "    def __call__(self, scattering_matrix, coupling_matrix, kappa_int_matrix, mode_types):\n",
    "        '''\n",
    "        calculates the difference between the number of added input photons and the quantum limit\n",
    "\n",
    "        input arguments:\n",
    "        scattering matrix: full scattering matrix for the current parameter set, this also includes the scattering from and to the auxiliary modes\n",
    "        coupling matrix: dimensionless coupling matrix (sigma_z @ H in our equations) for the current parameter set, this constraint does not make any use of the coupling matrix\n",
    "        kappa_int_matrix: diagonal matrix with the dimensionless intrinsic loss rates on the diagonal\n",
    "        mode_types: whether a mode is part of subset M_1 or M_2 (True for M_1, False for M_2), see Appendix F for more details\n",
    "        '''\n",
    "\n",
    "        # calculate the linear response to fluctuations entering from the intrinsic loss channels (\\mathcal{N} in the equations above)\n",
    "        noise_matrix = (scattering_matrix - jnp.eye(scattering_matrix.shape[0])) @ jnp.complex_(jnp.sqrt(kappa_int_matrix))\n",
    "\n",
    "        # calculate number of added photons at the input port, already considers that the target scattering matrix will be enforced\n",
    "        total_noise = 1/2 * (jnp.sum(jnp.abs(scattering_matrix[0,2:])**2) + jnp.sum(jnp.abs(noise_matrix[0,:])**2))\n",
    "        quantum_limit = 1/2\n",
    "        return total_noise - quantum_limit\n",
    "\n",
    "class MinimalAddedOutputNoise(msc.Base_Constraint):\n",
    "    def __init__(self, Gval):\n",
    "        '''\n",
    "        Gval: target gain value\n",
    "        '''\n",
    "        self.Gval = Gval\n",
    "\n",
    "    def __call__(self, scattering_matrix, coupling_matrix, kappa_int_matrix, mode_types):\n",
    "        '''\n",
    "        calculates the difference between the number of added output photons and the quantum limit\n",
    "\n",
    "        input arguments:\n",
    "        scattering matrix: full scattering matrix for the current parameter set, this also includes the scattering from and to the auxiliary modes\n",
    "        coupling matrix: dimensionless coupling matrix (sigma_z @ H in our equations) for the current parameter set, this constraint does not make any use of the coupling matrix\n",
    "        kappa_int_matrix: diagonal matrix with the dimensionless intrinsic loss rates on the diagonal\n",
    "        mode_types: list of boolean values. These values determine whether a mode is part of subset M_1 or M_2 (True for M_1, False for M_2), see Appendix F for more details\n",
    "        '''\n",
    "\n",
    "        # calculate the linear response to fluctuations entering from the intrinsic loss channels (\\mathcal{N} in the equations above)\n",
    "        noise_matrix = (scattering_matrix - jnp.eye(scattering_matrix.shape[0])) @ jnp.complex_(jnp.sqrt(kappa_int_matrix))\n",
    "\n",
    "        # calculate number of added photons at the output port, already considers that the target scattering matrix will be enforced\n",
    "        total_noise = 1/2 * (jnp.sum(jnp.abs(scattering_matrix[1,2:])**2) + jnp.sum(jnp.abs(noise_matrix[1,:])**2))\n",
    "\n",
    "        # input_output_part_of_same_set=True means that both modes are part of the same set M_1 or M_2\n",
    "        # This slightly influences the quantum limit for the output noise\n",
    "        input_output_part_of_same_set = mode_types[0]==mode_types[1]\n",
    "        if input_output_part_of_same_set:\n",
    "            quantum_limit = (self.Gval - 1)/2\n",
    "        else:\n",
    "            quantum_limit = (self.Gval + 1)/2\n",
    "\n",
    "        return total_noise - quantum_limit\n"
   ]
  },
  {
   "cell_type": "markdown",
   "metadata": {},
   "source": [
    "In the following, we design the amplifiers with the target behaviour described above. We restrict ourselves to the building blocks used in [Liu et al.](https://journals.aps.org/prapplied/abstract/10.1103/PhysRevApplied.21.014021). This excludes intrinsic loss channels for the input and output mode.\n",
    "\n",
    "To achieve amplification squeezing interactions are required. As described in Section I and Appendix E, we focus on phase-preserving applications. We enforce the phase-preserving property by dividing our mode sets into two subsets $M_1$ (particles) and $M_2$ (holes). Modes within the same subset are exclusively coupled via beamsplitter interactions, modes in different subsets are exclusively coupled via squeezing interactions. Which modes are part of which subset is controlled by the keyword argument mode_types in the optimizer class. This is a list whose length equals the number of modes considered. An entry True means that a mode is a particle, False that it is a hole. All possible systems fulfill particle-hole symmetry, meaning that exchanging all particles by holes and vice versa, leads the same scattering behaviour (besides a complex conjugation of the scattering matrix).\n",
    "\n",
    "We have to try out all possible particle/hole combinations. However, considering particle-hole symmetry and that the system is symmetric with respect to exchange of auxiliary modes, reduces the amount of combinations. \n",
    "Using the function arch_opt.find_minimum_number_auxiliary_modes we automatically find the number of required auxiliary modes and all possible assignments of particles and holes:"
   ]
  },
  {
   "cell_type": "code",
   "execution_count": 24,
   "metadata": {},
   "outputs": [
    {
     "name": "stdout",
     "output_type": "stream",
     "text": [
      "testing 0 auxiliary modes\n",
      "not successfull\n",
      "testing 1 auxiliary modes\n",
      "not successfull\n",
      "testing 2 auxiliary modes\n",
      "success, minimum number of auxiliary modes is 2\n",
      "successful assignments of particles and holes:\n",
      "[ True  True  True False]\n",
      "[ True False  True False]\n"
     ]
    }
   ],
   "source": [
    "Gval = 3. # target gain value\n",
    "S_target = sp.Matrix([[0,0],[np.sqrt(Gval),0]])\n",
    "enforced_constraints = [MinimalAddedInputNoise(), MinimalAddedOutputNoise(Gval=Gval)]\n",
    "\n",
    "# Set some hyperparameters for the continuous optimisation\n",
    "kwargs_optimization = {'num_tests': 10} # to reduce the risk of false negative classifications, we repeat the continuous optimization num_test times till a graph is labeled is invalid\n",
    "solver_options = {'maxiter': 1000} # Furthermore, we increase the maximum number steps within a try\n",
    "\n",
    "# optimizers contains the optimizers initialized with the respective successful assignments\n",
    "optimizers = arch_opt.find_minimum_number_auxiliary_modes(\n",
    "    S_target, enforced_constraints=enforced_constraints, # define target behaviour\n",
    "    allow_squeezing=True, # allow for squeezing\n",
    "    port_intrinsic_losses=False, # do not allow for intrinsic port losses (False is also the default option)\n",
    "    kwargs_optimization=kwargs_optimization, solver_options=solver_options # Set hyperparameters for the optimization\n",
    ")"
   ]
  },
  {
   "cell_type": "markdown",
   "metadata": {},
   "source": [
    "So, at least two auxiliary modes are required. The two working assignments of particles and holes are:\n",
    "- [True, True, True, False] # finds Graph (I), (II) and (UI). Graph (UI) is unstable and only discussed in the Supplemental Material\n",
    "- [ True, False,  True, False] # finds Graph (III), (IV) and (UII). Graph (UII) is unstable and only discussed in the Supplemental Material"
   ]
  },
  {
   "cell_type": "markdown",
   "metadata": {},
   "source": [
    "Lets start with the combination [True, True, True, False], the respective optimizer is already correctly initialized in optimizers[0]"
   ]
  },
  {
   "cell_type": "code",
   "execution_count": 25,
   "metadata": {},
   "outputs": [
    {
     "name": "stdout",
     "output_type": "stream",
     "text": [
      "prepare list of all possible graphs\n"
     ]
    },
    {
     "name": "stderr",
     "output_type": "stream",
     "text": [
      "3456it [00:00, 454447.59it/s]\n"
     ]
    },
    {
     "name": "stdout",
     "output_type": "stream",
     "text": [
      "3456 graphs identified\n",
      "start depth-first search\n",
      "test all graphs with 16 degrees of freedom:\n"
     ]
    },
    {
     "name": "stderr",
     "output_type": "stream",
     "text": [
      "100%|██████████| 1/1 [00:00<00:00,  2.65it/s]\n"
     ]
    },
    {
     "name": "stdout",
     "output_type": "stream",
     "text": [
      "test all graphs with 15 degrees of freedom:\n"
     ]
    },
    {
     "name": "stderr",
     "output_type": "stream",
     "text": [
      "100%|██████████| 7/7 [00:00<00:00, 13.17it/s]\n"
     ]
    },
    {
     "name": "stdout",
     "output_type": "stream",
     "text": [
      "test all graphs with 14 degrees of freedom:\n"
     ]
    },
    {
     "name": "stderr",
     "output_type": "stream",
     "text": [
      "100%|██████████| 26/26 [00:06<00:00,  3.87it/s]\n"
     ]
    },
    {
     "name": "stdout",
     "output_type": "stream",
     "text": [
      "test all graphs with 13 degrees of freedom:\n"
     ]
    },
    {
     "name": "stderr",
     "output_type": "stream",
     "text": [
      "100%|██████████| 63/63 [00:07<00:00,  8.62it/s]\n"
     ]
    },
    {
     "name": "stdout",
     "output_type": "stream",
     "text": [
      "test all graphs with 12 degrees of freedom:\n"
     ]
    },
    {
     "name": "stderr",
     "output_type": "stream",
     "text": [
      "100%|██████████| 114/114 [00:19<00:00,  5.89it/s]\n"
     ]
    },
    {
     "name": "stdout",
     "output_type": "stream",
     "text": [
      "test all graphs with 11 degrees of freedom:\n"
     ]
    },
    {
     "name": "stderr",
     "output_type": "stream",
     "text": [
      "100%|██████████| 118/118 [00:20<00:00,  5.88it/s]\n"
     ]
    },
    {
     "name": "stdout",
     "output_type": "stream",
     "text": [
      "test all graphs with 10 degrees of freedom:\n"
     ]
    },
    {
     "name": "stderr",
     "output_type": "stream",
     "text": [
      "100%|██████████| 73/73 [00:03<00:00, 23.13it/s]\n"
     ]
    },
    {
     "name": "stdout",
     "output_type": "stream",
     "text": [
      "test all graphs with 9 degrees of freedom:\n"
     ]
    },
    {
     "name": "stderr",
     "output_type": "stream",
     "text": [
      "100%|██████████| 20/20 [00:00<00:00, 34.94it/s]\n"
     ]
    },
    {
     "name": "stdout",
     "output_type": "stream",
     "text": [
      "test all graphs with 8 degrees of freedom:\n"
     ]
    },
    {
     "name": "stderr",
     "output_type": "stream",
     "text": [
      "100%|██████████| 7/7 [00:00<00:00, 72.72it/s]\n"
     ]
    },
    {
     "name": "stdout",
     "output_type": "stream",
     "text": [
      "test all graphs with 7 degrees of freedom:\n"
     ]
    },
    {
     "name": "stderr",
     "output_type": "stream",
     "text": [
      "0it [00:00, ?it/s]\n"
     ]
    },
    {
     "name": "stdout",
     "output_type": "stream",
     "text": [
      "test all graphs with 6 degrees of freedom:\n"
     ]
    },
    {
     "name": "stderr",
     "output_type": "stream",
     "text": [
      "0it [00:00, ?it/s]\n"
     ]
    },
    {
     "name": "stdout",
     "output_type": "stream",
     "text": [
      "test all graphs with 5 degrees of freedom:\n"
     ]
    },
    {
     "name": "stderr",
     "output_type": "stream",
     "text": [
      "0it [00:00, ?it/s]\n"
     ]
    },
    {
     "name": "stdout",
     "output_type": "stream",
     "text": [
      "test all graphs with 4 degrees of freedom:\n"
     ]
    },
    {
     "name": "stderr",
     "output_type": "stream",
     "text": [
      "0it [00:00, ?it/s]\n"
     ]
    },
    {
     "name": "stdout",
     "output_type": "stream",
     "text": [
      "test all graphs with 3 degrees of freedom:\n"
     ]
    },
    {
     "name": "stderr",
     "output_type": "stream",
     "text": [
      "0it [00:00, ?it/s]\n"
     ]
    },
    {
     "name": "stdout",
     "output_type": "stream",
     "text": [
      "test all graphs with 2 degrees of freedom:\n"
     ]
    },
    {
     "name": "stderr",
     "output_type": "stream",
     "text": [
      "0it [00:00, ?it/s]\n"
     ]
    },
    {
     "name": "stdout",
     "output_type": "stream",
     "text": [
      "test all graphs with 1 degrees of freedom:\n"
     ]
    },
    {
     "name": "stderr",
     "output_type": "stream",
     "text": [
      "0it [00:00, ?it/s]\n"
     ]
    },
    {
     "name": "stdout",
     "output_type": "stream",
     "text": [
      "test all graphs with 0 degrees of freedom:\n"
     ]
    },
    {
     "name": "stderr",
     "output_type": "stream",
     "text": [
      "0it [00:00, ?it/s]\n"
     ]
    },
    {
     "name": "stdout",
     "output_type": "stream",
     "text": [
      "optimisation finished, list of irreducible graphs has 7 elements\n"
     ]
    }
   ],
   "source": [
    "list_of_irreducible_graphs = optimizers[0].perform_depth_first_search()"
   ]
  },
  {
   "cell_type": "code",
   "execution_count": 26,
   "metadata": {},
   "outputs": [
    {
     "data": {
      "image/png": "[encoded data removed]",
      "text/plain": [
       "<Figure size 1250x500 with 10 Axes>"
      ]
     },
     "metadata": {},
     "output_type": "display_data"
    }
   ],
   "source": [
    "node_colors = ['orange', 'red', 'gray', 'gray'] # the input is orange, the output red, the auxiliary modes are gray\n",
    "node_positions = [[-1,0],[0,1],[1,0],[0,0.5]]\n",
    "msc.plot_list_of_graphs(list_of_irreducible_graphs, mode_types=optimizers[0].mode_types, positions=node_positions, node_colors=node_colors)"
   ]
  },
  {
   "cell_type": "markdown",
   "metadata": {},
   "source": [
    "Now we deal with the combination [True, False, True, False], the respective optimizer is already correctly initialized in optimizers[1]"
   ]
  },
  {
   "cell_type": "code",
   "execution_count": 27,
   "metadata": {},
   "outputs": [
    {
     "name": "stdout",
     "output_type": "stream",
     "text": [
      "prepare list of all possible graphs\n"
     ]
    },
    {
     "name": "stderr",
     "output_type": "stream",
     "text": [
      "2304it [00:00, 603112.80it/s]\n"
     ]
    },
    {
     "name": "stdout",
     "output_type": "stream",
     "text": [
      "2304 graphs identified\n",
      "start depth-first search\n",
      "test all graphs with 16 degrees of freedom:\n"
     ]
    },
    {
     "name": "stderr",
     "output_type": "stream",
     "text": [
      "100%|██████████| 1/1 [00:00<00:00, 11.51it/s]\n"
     ]
    },
    {
     "name": "stdout",
     "output_type": "stream",
     "text": [
      "test all graphs with 15 degrees of freedom:\n"
     ]
    },
    {
     "name": "stderr",
     "output_type": "stream",
     "text": [
      "100%|██████████| 6/6 [00:01<00:00,  4.51it/s]\n"
     ]
    },
    {
     "name": "stdout",
     "output_type": "stream",
     "text": [
      "test all graphs with 14 degrees of freedom:\n"
     ]
    },
    {
     "name": "stderr",
     "output_type": "stream",
     "text": [
      "100%|██████████| 21/21 [00:06<00:00,  3.46it/s]\n"
     ]
    },
    {
     "name": "stdout",
     "output_type": "stream",
     "text": [
      "test all graphs with 13 degrees of freedom:\n"
     ]
    },
    {
     "name": "stderr",
     "output_type": "stream",
     "text": [
      "100%|██████████| 49/49 [00:04<00:00, 10.62it/s]\n"
     ]
    },
    {
     "name": "stdout",
     "output_type": "stream",
     "text": [
      "test all graphs with 12 degrees of freedom:\n"
     ]
    },
    {
     "name": "stderr",
     "output_type": "stream",
     "text": [
      "100%|██████████| 85/85 [00:16<00:00,  5.06it/s]\n"
     ]
    },
    {
     "name": "stdout",
     "output_type": "stream",
     "text": [
      "test all graphs with 11 degrees of freedom:\n"
     ]
    },
    {
     "name": "stderr",
     "output_type": "stream",
     "text": [
      "100%|██████████| 85/85 [00:02<00:00, 29.22it/s]\n"
     ]
    },
    {
     "name": "stdout",
     "output_type": "stream",
     "text": [
      "test all graphs with 10 degrees of freedom:\n"
     ]
    },
    {
     "name": "stderr",
     "output_type": "stream",
     "text": [
      "100%|██████████| 52/52 [00:00<00:00, 52.77it/s]\n"
     ]
    },
    {
     "name": "stdout",
     "output_type": "stream",
     "text": [
      "test all graphs with 9 degrees of freedom:\n"
     ]
    },
    {
     "name": "stderr",
     "output_type": "stream",
     "text": [
      "100%|██████████| 15/15 [00:00<00:00, 82.06it/s]"
     ]
    },
    {
     "name": "stdout",
     "output_type": "stream",
     "text": [
      "test all graphs with 8 degrees of freedom:\n"
     ]
    },
    {
     "name": "stderr",
     "output_type": "stream",
     "text": [
      "\n",
      "0it [00:00, ?it/s]\n"
     ]
    },
    {
     "name": "stdout",
     "output_type": "stream",
     "text": [
      "test all graphs with 7 degrees of freedom:\n"
     ]
    },
    {
     "name": "stderr",
     "output_type": "stream",
     "text": [
      "0it [00:00, ?it/s]\n"
     ]
    },
    {
     "name": "stdout",
     "output_type": "stream",
     "text": [
      "test all graphs with 6 degrees of freedom:\n"
     ]
    },
    {
     "name": "stderr",
     "output_type": "stream",
     "text": [
      "0it [00:00, ?it/s]\n"
     ]
    },
    {
     "name": "stdout",
     "output_type": "stream",
     "text": [
      "test all graphs with 5 degrees of freedom:\n"
     ]
    },
    {
     "name": "stderr",
     "output_type": "stream",
     "text": [
      "0it [00:00, ?it/s]\n"
     ]
    },
    {
     "name": "stdout",
     "output_type": "stream",
     "text": [
      "test all graphs with 4 degrees of freedom:\n"
     ]
    },
    {
     "name": "stderr",
     "output_type": "stream",
     "text": [
      "0it [00:00, ?it/s]\n"
     ]
    },
    {
     "name": "stdout",
     "output_type": "stream",
     "text": [
      "test all graphs with 3 degrees of freedom:\n"
     ]
    },
    {
     "name": "stderr",
     "output_type": "stream",
     "text": [
      "0it [00:00, ?it/s]\n"
     ]
    },
    {
     "name": "stdout",
     "output_type": "stream",
     "text": [
      "test all graphs with 2 degrees of freedom:\n"
     ]
    },
    {
     "name": "stderr",
     "output_type": "stream",
     "text": [
      "0it [00:00, ?it/s]\n"
     ]
    },
    {
     "name": "stdout",
     "output_type": "stream",
     "text": [
      "test all graphs with 1 degrees of freedom:\n"
     ]
    },
    {
     "name": "stderr",
     "output_type": "stream",
     "text": [
      "0it [00:00, ?it/s]\n"
     ]
    },
    {
     "name": "stdout",
     "output_type": "stream",
     "text": [
      "test all graphs with 0 degrees of freedom:\n"
     ]
    },
    {
     "name": "stderr",
     "output_type": "stream",
     "text": [
      "0it [00:00, ?it/s]"
     ]
    },
    {
     "name": "stdout",
     "output_type": "stream",
     "text": [
      "optimisation finished, list of irreducible graphs has 3 elements\n"
     ]
    },
    {
     "name": "stderr",
     "output_type": "stream",
     "text": [
      "\n"
     ]
    }
   ],
   "source": [
    "list_of_irreducible_graphs = optimizers[1].perform_depth_first_search()"
   ]
  },
  {
   "cell_type": "code",
   "execution_count": 28,
   "metadata": {},
   "outputs": [
    {
     "data": {
      "image/png": "[encoded data removed]",
      "text/plain": [
       "<Figure size 1250x250 with 5 Axes>"
      ]
     },
     "metadata": {},
     "output_type": "display_data"
    }
   ],
   "source": [
    "node_colors = ['orange', 'red', 'gray', 'gray'] # the input is orange, the output red, the auxiliary modes are gray\n",
    "node_positions = [[-1,0],[0,1],[1,0],[0,0.5]]\n",
    "msc.plot_list_of_graphs(list_of_irreducible_graphs, mode_types=optimizers[1].mode_types, positions=node_positions, node_colors=node_colors)"
   ]
  },
  {
   "cell_type": "markdown",
   "metadata": {},
   "source": [
    "In the following we will allow for intrinsic losses on the port modes. This building block was not considered in [Liu et al.](https://journals.aps.org/prapplied/abstract/10.1103/PhysRevApplied.21.014021)."
   ]
  },
  {
   "cell_type": "code",
   "execution_count": 29,
   "metadata": {},
   "outputs": [
    {
     "name": "stdout",
     "output_type": "stream",
     "text": [
      "testing 0 auxiliary modes\n",
      "not successfull\n",
      "testing 1 auxiliary modes\n",
      "success, minimum number of auxiliary modes is 1\n",
      "successful assignments of particles and holes:\n",
      "[ True False  True]\n"
     ]
    }
   ],
   "source": [
    "optimizers = arch_opt.find_minimum_number_auxiliary_modes(\n",
    "    S_target, enforced_constraints=enforced_constraints, # define target behaviour\n",
    "    allow_squeezing=True, # allow for squeezing\n",
    "    port_intrinsic_losses=True, # allow for intrinsic port losses\n",
    "    kwargs_optimization=kwargs_optimization, solver_options=solver_options # Set hyperparameters for the optimization\n",
    ")"
   ]
  },
  {
   "cell_type": "code",
   "execution_count": 30,
   "metadata": {},
   "outputs": [
    {
     "name": "stdout",
     "output_type": "stream",
     "text": [
      "prepare list of all possible graphs\n"
     ]
    },
    {
     "name": "stderr",
     "output_type": "stream",
     "text": [
      "96it [00:00, 470389.23it/s]\n"
     ]
    },
    {
     "name": "stdout",
     "output_type": "stream",
     "text": [
      "96 graphs identified\n",
      "start depth-first search\n",
      "test all graphs with 9 degrees of freedom:\n"
     ]
    },
    {
     "name": "stderr",
     "output_type": "stream",
     "text": [
      "100%|██████████| 1/1 [00:00<00:00, 21.39it/s]\n"
     ]
    },
    {
     "name": "stdout",
     "output_type": "stream",
     "text": [
      "test all graphs with 8 degrees of freedom:\n"
     ]
    },
    {
     "name": "stderr",
     "output_type": "stream",
     "text": [
      "100%|██████████| 4/4 [00:00<00:00, 34.23it/s]\n"
     ]
    },
    {
     "name": "stdout",
     "output_type": "stream",
     "text": [
      "test all graphs with 7 degrees of freedom:\n"
     ]
    },
    {
     "name": "stderr",
     "output_type": "stream",
     "text": [
      "100%|██████████| 7/7 [00:00<00:00, 10.16it/s]\n"
     ]
    },
    {
     "name": "stdout",
     "output_type": "stream",
     "text": [
      "test all graphs with 6 degrees of freedom:\n"
     ]
    },
    {
     "name": "stderr",
     "output_type": "stream",
     "text": [
      "0it [00:00, ?it/s]\n"
     ]
    },
    {
     "name": "stdout",
     "output_type": "stream",
     "text": [
      "test all graphs with 5 degrees of freedom:\n"
     ]
    },
    {
     "name": "stderr",
     "output_type": "stream",
     "text": [
      "0it [00:00, ?it/s]\n"
     ]
    },
    {
     "name": "stdout",
     "output_type": "stream",
     "text": [
      "test all graphs with 4 degrees of freedom:\n"
     ]
    },
    {
     "name": "stderr",
     "output_type": "stream",
     "text": [
      "0it [00:00, ?it/s]\n"
     ]
    },
    {
     "name": "stdout",
     "output_type": "stream",
     "text": [
      "test all graphs with 3 degrees of freedom:\n"
     ]
    },
    {
     "name": "stderr",
     "output_type": "stream",
     "text": [
      "0it [00:00, ?it/s]\n"
     ]
    },
    {
     "name": "stdout",
     "output_type": "stream",
     "text": [
      "test all graphs with 2 degrees of freedom:\n"
     ]
    },
    {
     "name": "stderr",
     "output_type": "stream",
     "text": [
      "0it [00:00, ?it/s]\n"
     ]
    },
    {
     "name": "stdout",
     "output_type": "stream",
     "text": [
      "test all graphs with 1 degrees of freedom:\n"
     ]
    },
    {
     "name": "stderr",
     "output_type": "stream",
     "text": [
      "0it [00:00, ?it/s]\n"
     ]
    },
    {
     "name": "stdout",
     "output_type": "stream",
     "text": [
      "test all graphs with 0 degrees of freedom:\n"
     ]
    },
    {
     "name": "stderr",
     "output_type": "stream",
     "text": [
      "0it [00:00, ?it/s]"
     ]
    },
    {
     "name": "stdout",
     "output_type": "stream",
     "text": [
      "optimisation finished, list of irreducible graphs has 1 elements\n"
     ]
    },
    {
     "name": "stderr",
     "output_type": "stream",
     "text": [
      "\n"
     ]
    }
   ],
   "source": [
    "list_of_irreducible_graphs = optimizers[0].perform_depth_first_search()"
   ]
  },
  {
   "cell_type": "code",
   "execution_count": 35,
   "metadata": {},
   "outputs": [
    {
     "data": {
      "image/png": "[encoded data removed]",
      "text/plain": [
       "<Figure size 1250x250 with 5 Axes>"
      ]
     },
     "metadata": {},
     "output_type": "display_data"
    }
   ],
   "source": [
    "node_colors = ['orange', 'red', 'gray'] # the input is orange, the output red, the auxiliary modes are gray\n",
    "node_positions = [[-1,0],[0,1],[1,0]]\n",
    "msc.plot_list_of_graphs(list_of_irreducible_graphs, mode_types=optimizers[0].mode_types, positions=node_positions, node_colors=node_colors)"
   ]
  },
  {
   "cell_type": "markdown",
   "metadata": {},
   "source": [
    "In the following we analyse and generalise Graph (V) detected by the previous cells. So far, we always kept the gain value fixed. However, we want to find the general behaviour for arbitrary gain values. Playing around with the gain value, it is easy to see, that the cooperativities equal $C_{0,1}=C_{1,2}=G$ and $C_{0,2}=1$ and the dimensionless intrinsic loss rates equal $\\gamma_0=0$ and $\\gamma_1=G+1$."
   ]
  },
  {
   "cell_type": "code",
   "execution_count": 32,
   "metadata": {},
   "outputs": [
    {
     "name": "stdout",
     "output_type": "stream",
     "text": [
      "optimisation was successful: True\n"
     ]
    },
    {
     "data": {
      "text/plain": [
       "{'C_{0,1}': 4.999893863548415,\n",
       " 'C_{0,2}': 0.9999890019327009,\n",
       " 'C_{1,2}': 4.999968545433196,\n",
       " '\\\\gamma_0': 3.9625870432642266e-08,\n",
       " '\\\\gamma_1': 5.9999503756103385}"
      ]
     },
     "execution_count": 32,
     "metadata": {},
     "output_type": "execute_result"
    }
   ],
   "source": [
    "Gval = 5. # target gain value\n",
    "mode_types = [True, False, True] # defines which modes are particles and which are holes\n",
    "\n",
    "optimizer = arch_opt.Architecture_Optimizer(\n",
    "    S_target=sp.Matrix([[0,0],[np.sqrt(Gval),0]]),\n",
    "    num_auxiliary_modes=1,\n",
    "    mode_types=mode_types,\n",
    "    port_intrinsic_losses=True, # allows an additional intrinsic loss channel for input and output port\n",
    "    enforced_constraints=[MinimalAddedInputNoise(), MinimalAddedOutputNoise(Gval=Gval)],\n",
    "    kwargs_optimization={'num_tests': 30}, # to reduce the risk of false negative classifications, we increase the number of tries till a graph is labeled is invalid\n",
    "    solver_options={'maxiter': 2000},\n",
    "    make_initial_test=False\n",
    ")\n",
    "\n",
    "success, infos, _ = optimizer.repeated_optimization(triu_matrix=list_of_irreducible_graphs[0], **optimizer.kwargs_optimization, **optimizer.solver_options)\n",
    "print('optimisation was successful:', success)\n",
    "infos[-1]['parameters_for_analysis']"
   ]
  },
  {
   "cell_type": "code",
   "execution_count": 33,
   "metadata": {},
   "outputs": [
    {
     "name": "stdout",
     "output_type": "stream",
     "text": [
      "optimisation was successful: True\n",
      "optimisation was successful: True\n",
      "optimisation was successful: True\n",
      "optimisation was successful: True\n",
      "optimisation was successful: True\n",
      "optimisation was successful: True\n",
      "optimisation was successful: True\n",
      "optimisation was successful: True\n",
      "optimisation was successful: True\n",
      "optimisation was successful: True\n",
      "optimisation was successful: True\n",
      "optimisation was successful: True\n",
      "optimisation was successful: True\n",
      "optimisation was successful: True\n",
      "optimisation was successful: True\n",
      "optimisation was successful: True\n",
      "optimisation was successful: True\n",
      "optimisation was successful: True\n",
      "optimisation was successful: True\n",
      "optimisation was successful: True\n"
     ]
    }
   ],
   "source": [
    "Gvals = np.linspace(1.1, 5., 20)\n",
    "list_C01 = []\n",
    "list_C02 = []\n",
    "list_C12 = []\n",
    "list_gamma0 = []\n",
    "list_gamma1 = []\n",
    "\n",
    "for Gval in Gvals:\n",
    "    optimizer = arch_opt.Architecture_Optimizer(\n",
    "        S_target=sp.Matrix([[0,0],[np.sqrt(Gval),0]]),\n",
    "        num_auxiliary_modes=1,\n",
    "        mode_types=[True, False, True], # defines whether modes are particles or holes\n",
    "        port_intrinsic_losses=True, # allows an additional intrinsic loss channel for input and output port\n",
    "        enforced_constraints=[MinimalAddedInputNoise(), MinimalAddedOutputNoise(Gval=Gval)],\n",
    "        kwargs_optimization={'num_tests': 30}, # to reduce the risk of false negative classifications, we increase the number of tries till a graph is labeled is invalid\n",
    "        solver_options={'maxiter': 2000},\n",
    "        make_initial_test=False\n",
    "    )\n",
    "\n",
    "    success, infos, _ = optimizer.repeated_optimization(triu_matrix=list_of_irreducible_graphs[0], **optimizer.kwargs_optimization, **optimizer.solver_options)\n",
    "    print('optimisation was successful:', success)\n",
    "    list_C01.append(infos[-1]['parameters_for_analysis']['C_{0,1}'])\n",
    "    list_C02.append(infos[-1]['parameters_for_analysis']['C_{0,2}'])\n",
    "    list_C12.append(infos[-1]['parameters_for_analysis']['C_{1,2}'])\n",
    "    list_gamma0.append(infos[-1]['parameters_for_analysis']['\\\\gamma_0'])\n",
    "    list_gamma1.append(infos[-1]['parameters_for_analysis']['\\\\gamma_1'])"
   ]
  },
  {
   "cell_type": "code",
   "execution_count": 34,
   "metadata": {},
   "outputs": [
    {
     "data": {
      "text/plain": [
       "<matplotlib.legend.Legend at 0x7fa1d63f9240>"
      ]
     },
     "execution_count": 34,
     "metadata": {},
     "output_type": "execute_result"
    },
    {
     "data": {
      "image/png": "[encoded data removed]",
      "text/plain": [
       "<Figure size 500x500 with 1 Axes>"
      ]
     },
     "metadata": {},
     "output_type": "display_data"
    }
   ],
   "source": [
    "fig, ax = plt.subplots(figsize=(5,5))\n",
    "\n",
    "ax.plot(Gvals, list_C02, ls='None', marker='o', label='$C_\\mathrm{in,aux}$')\n",
    "ax.plot(Gvals, list_C12, ls='None', marker='o', label='$C_\\mathrm{out,aux}$')\n",
    "ax.plot(Gvals, list_C01, ls='None', marker='o', label='$C_\\mathrm{in,out}$', markersize=3)\n",
    "ax.plot(Gvals, list_gamma0, ls='None', marker='o', label='$\\gamma_0$')\n",
    "ax.plot(Gvals, list_gamma1, ls='None', marker='o', label='$\\gamma_1$')\n",
    "\n",
    "# plot dependencies for the parameter values\n",
    "xs = np.linspace(Gvals[0]-.2, Gvals[-1]+.2)\n",
    "ax.axhline(1., label='guess', ls='dashed', color='black', zorder=-100)\n",
    "ax.axhline(0., ls='dashed', color='black', zorder=-100)\n",
    "ax.plot(xs, xs, ls='dashed', color='black', zorder=-100)\n",
    "ax.plot(xs, xs+1, ls='dashed', color='black', zorder=-100)\n",
    "ax.set_xlabel('gain value')\n",
    "ax.set_ylabel('cooperativities and dimensionless intrinsic loss rates')\n",
    "ax.set_xlim(xs[0], xs[-1])\n",
    "ax.legend()"
   ]
  },
  {
   "cell_type": "markdown",
   "metadata": {},
   "source": [
    "In a similar way the other amplifiers with two auxiliary modes can be analysed. The easiest way to find the symbolic expressions is to find first the symbolic expressions for the full scattering matrix including the scattering from and to the auxiliary modes. The coupling matrix can then be computed by simple matrix inversion. The resulting coupling rates are provided in the Supplemental Material in [arxiv:2404.14887](https://arxiv.org/abs/2404.14887)."
   ]
  }
 ],
 "metadata": {
  "kernelspec": {
   "display_name": "jax",
   "language": "python",
   "name": "python3"
  },
  "language_info": {
   "codemirror_mode": {
    "name": "ipython",
    "version": 3
   },
   "file_extension": ".py",
   "mimetype": "text/x-python",
   "name": "python",
   "nbconvert_exporter": "python",
   "pygments_lexer": "ipython3",
   "version": "3.10.12"
  }
 },
 "nbformat": 4,
 "nbformat_minor": 2
}
